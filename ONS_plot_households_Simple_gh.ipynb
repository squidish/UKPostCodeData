{
 "cells": [
  {
   "cell_type": "markdown",
   "id": "bcbab97b-6195-4a71-845b-915b29d468a0",
   "metadata": {},
   "source": [
    "#                       Ploting UK Local Authority Data using Plotly           #"
   ]
  },
  {
   "cell_type": "code",
   "execution_count": null,
   "id": "1d1d95a1-e314-44ae-89da-f03cb6a20a92",
   "metadata": {},
   "outputs": [],
   "source": [
    "import geojson as gjs\n",
    "import json\n",
    "import pandas as pd\n",
    "import numpy as py\n",
    "import geopandas as gp\n",
    "import plotly.express as px"
   ]
  },
  {
   "cell_type": "markdown",
   "id": "a71cc077-dfd6-49b3-9c18-9fe0c171ff82",
   "metadata": {},
   "source": [
    "## Defining some useful functions for understanding and simplifying GeoJSON properties ##"
   ]
  },
  {
   "cell_type": "code",
   "execution_count": null,
   "id": "3501799f-ed57-414d-bc5b-806ca513125e",
   "metadata": {},
   "outputs": [],
   "source": [
    "def list_geojson_properties(geojson):\n",
    "    \"\"\"\n",
    "    Lists the properties of all features in a GeoJSON object.\n",
    "\n",
    "    :param geojson: GeoJSON data as a Python dictionary.\n",
    "    :return: List of dictionaries, each containing the properties of one feature.\n",
    "    \"\"\"\n",
    "    properties_list = []\n",
    "\n",
    "    if 'features' in geojson:\n",
    "        for feature in geojson['features']:\n",
    "            if 'properties' in feature:\n",
    "                properties_list.append(feature['properties'])\n",
    "\n",
    "    return properties_list"
   ]
  },
  {
   "cell_type": "code",
   "execution_count": null,
   "id": "0c096a75-68c0-42bd-8402-a98e8305df3e",
   "metadata": {},
   "outputs": [],
   "source": [
    "def simplify_geojson(geojson, precision=6, properties_to_keep=None):\n",
    "    \"\"\"\n",
    "    Simplifies a GeoJSON object by reducing the precision of coordinates\n",
    "    and removing unnecessary properties.\n",
    "\n",
    "    :param geojson: GeoJSON data as a Python dictionary.\n",
    "    :param precision: Number of decimal places for coordinates.\n",
    "    :param properties_to_keep: List of property names to keep. If None, keeps all properties.\n",
    "    :return: Simplified GeoJSON data as a Python dictionary.\n",
    "    \"\"\"\n",
    "    if properties_to_keep is None:\n",
    "        properties_to_keep = []\n",
    "\n",
    "    def simplify_coordinates(coords):\n",
    "        \"\"\"Reduce the precision of a list of coordinates.\"\"\"\n",
    "        if isinstance(coords[0], list):\n",
    "            # Recursive call for nested lists of coordinates\n",
    "            return [simplify_coordinates(coord) for coord in coords]\n",
    "        else:\n",
    "            # Round coordinates to the specified precision\n",
    "            return [round(coord, precision) for coord in coords]\n",
    "\n",
    "    def simplify_feature(feature):\n",
    "        \"\"\"Simplify a single feature.\"\"\"\n",
    "        # Simplify geometry\n",
    "        if 'geometry' in feature and 'coordinates' in feature['geometry']:\n",
    "            feature['geometry']['coordinates'] = simplify_coordinates(feature['geometry']['coordinates'])\n",
    "\n",
    "        # Simplify properties\n",
    "        if 'properties' in feature:\n",
    "            if properties_to_keep:\n",
    "                feature['properties'] = {prop: feature['properties'][prop] for prop in properties_to_keep if prop in feature['properties']}\n",
    "        \n",
    "        return feature\n",
    "\n",
    "    # Simplify features in the GeoJSON\n",
    "    if 'features' in geojson:\n",
    "        geojson['features'] = [simplify_feature(feature) for feature in geojson['features']]\n",
    "\n",
    "    return geojson"
   ]
  },
  {
   "cell_type": "markdown",
   "id": "1387ee55-8fb4-42b7-acac-8ddf30fedfac",
   "metadata": {},
   "source": [
    "## Getting UK Data on number of households in each postcode ##"
   ]
  },
  {
   "cell_type": "markdown",
   "id": "5ac25b56-2c1f-465f-a5ef-787f4de968d9",
   "metadata": {},
   "source": [
    "This data comes from the 2021 census. It is given at postcode level it can be found here: https://www.nomisweb.co.uk/sources/census_2021_pc"
   ]
  },
  {
   "cell_type": "code",
   "execution_count": null,
   "id": "c9f6b383-6760-4890-b1f2-9e0ca2ffd312",
   "metadata": {},
   "outputs": [],
   "source": [
    "df_house = pd.read_csv('pcd_p002.csv')\n",
    "df_house.head(5)"
   ]
  },
  {
   "cell_type": "markdown",
   "id": "5b89cd69-78db-4ed9-8ae4-b51fe8c9bfd6",
   "metadata": {},
   "source": [
    "To plot as a chloropleth map we need a geoJSON. This geoJSON can be found at https://martinjc.github.io/UK-GeoJSON/. It is at the Local Authority District level so we will need to aggregate the PostCode level information to this level. "
   ]
  },
  {
   "cell_type": "code",
   "execution_count": null,
   "id": "f9762b7b-e959-4986-8c7d-46f4e1f4fb2f",
   "metadata": {},
   "outputs": [],
   "source": [
    "uk_jsonfile = \"utl.geojson\"\n",
    "f = open(uk_jsonfile)\n",
    "gs = f.read()\n",
    "gsdata = gjs.loads(gs)\n",
    "properties_list = list_geojson_properties(gsdata)\n",
    "properties_list"
   ]
  },
  {
   "cell_type": "markdown",
   "id": "9bb6d785-13ce-4df9-a679-673bcba21334",
   "metadata": {},
   "source": [
    "We do not need all these properties so let's simplify to include only the ones that we want."
   ]
  },
  {
   "cell_type": "code",
   "execution_count": null,
   "id": "3e85825a-755c-40a4-82cc-0e3b66dbb2cc",
   "metadata": {},
   "outputs": [],
   "source": [
    "properties_list = list_geojson_properties(gsdata)\n",
    "prp  = ['LAD22CD','LAD22NM']\n",
    "gs_simp = simplify_geojson(gsdata, precision=3, properties_to_keep=prp)\n",
    "properties_list = list_geojson_properties(gsdata)\n",
    "properties_list = list_geojson_properties(gsdata)\n",
    "properties_list"
   ]
  },
  {
   "cell_type": "markdown",
   "id": "d1e0f959-2703-410d-ba70-cb6f0f5a38e1",
   "metadata": {},
   "source": [
    "Mapping table to map postcodes to LADs. This can be found in"
   ]
  },
  {
   "cell_type": "code",
   "execution_count": null,
   "id": "9d90dbb9-5056-43c1-8968-751170149beb",
   "metadata": {},
   "outputs": [],
   "source": [
    "df_map1 = pd.read_csv('./GeoData/PCtoLSOA/PCD_OA21_LSOA21_MSOA21_LAD_AUG23_UK_LU.csv',encoding='latin-1',low_memory=False)"
   ]
  },
  {
   "cell_type": "code",
   "execution_count": null,
   "id": "19fcb195-8345-46d0-aace-b39d3eb7ff84",
   "metadata": {},
   "outputs": [],
   "source": [
    "df_house.columns = ['Postcode','HouseHolds']\n",
    "df1 = df_house.merge(df_map1, left_on = 'Postcode', right_on = 'pcds', how = 'inner')"
   ]
  },
  {
   "cell_type": "code",
   "execution_count": null,
   "id": "71db8efb-b2a0-4faf-8283-b3a3698cd4f5",
   "metadata": {},
   "outputs": [],
   "source": [
    "df1.head(3)"
   ]
  },
  {
   "cell_type": "code",
   "execution_count": null,
   "id": "e6209791-3d81-4625-8c58-65773d968437",
   "metadata": {},
   "outputs": [],
   "source": [
    "d_emp = df1.pivot_table(index = 'ladcd', values = 'HouseHolds', aggfunc='mean')\n",
    "d_emp = d_emp.reset_index()\n",
    "d_emp.columns = ['LAD22CD','HouseHolds']"
   ]
  },
  {
   "cell_type": "code",
   "execution_count": null,
   "id": "e278ab7a-e9b9-4cae-9681-4c4787ded86e",
   "metadata": {},
   "outputs": [],
   "source": [
    "data = gp.read_file(uk_jsonfile)\n",
    "dat1 = data.merge(d_emp,on = 'LAD22CD', how = 'left')\n",
    "df_dat1 = dat1.dropna()"
   ]
  },
  {
   "cell_type": "code",
   "execution_count": null,
   "id": "7bfbecc0-3968-40b8-8717-6dc7a62b9c02",
   "metadata": {},
   "outputs": [],
   "source": [
    "df_plt = df_dat1[['LAD22CD','HouseHolds','LAD22NM']]\n",
    "df_plt.head(5)"
   ]
  },
  {
   "cell_type": "markdown",
   "id": "46fbfc1b-b2b7-417e-acf9-5a92c65f5e85",
   "metadata": {},
   "source": [
    "Use plotly to show the data in chloropleth format. The data is only for England and Wales, hence Scotland and Ireland are not included"
   ]
  },
  {
   "cell_type": "code",
   "execution_count": null,
   "id": "79f3335a-57c8-4ac6-b62e-0898845fef7f",
   "metadata": {},
   "outputs": [],
   "source": [
    "fig = px.choropleth_mapbox(df_plt, geojson=gs_simp, locations='LAD22CD', color='HouseHolds',featureidkey=\"properties.LAD22CD\",\n",
    "                           color_continuous_scale=\"Viridis\", \n",
    "                           range_color=(0, 30),\n",
    "                           mapbox_style=\"carto-positron\",\n",
    "                           center  = {\"lat\": 56, \"lon\" : 0.12},\n",
    "                           zoom=3\n",
    "                          )\n",
    "fig.update_layout(margin={\"r\":0,\"t\":0,\"l\":0,\"b\":0})\n",
    "fig.show()"
   ]
  }
 ],
 "metadata": {
  "kernelspec": {
   "display_name": "Python 3 (ipykernel)",
   "language": "python",
   "name": "python3"
  },
  "language_info": {
   "codemirror_mode": {
    "name": "ipython",
    "version": 3
   },
   "file_extension": ".py",
   "mimetype": "text/x-python",
   "name": "python",
   "nbconvert_exporter": "python",
   "pygments_lexer": "ipython3",
   "version": "3.11.4"
  }
 },
 "nbformat": 4,
 "nbformat_minor": 5
}
